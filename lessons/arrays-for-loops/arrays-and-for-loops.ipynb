{
 "cells": [
  {
   "cell_type": "markdown",
   "metadata": {},
   "source": [
    "# Arrays\n",
    "\n",
    "Arrays `arrs`, from previous lessons are a list of objects(variables) of the same type. Arrays are indexed, meaning each variable in the Array has a position that can be used to identify the contents or extract the value of the variable at that position in the Array.\n",
    "\n",
    "Much like a ticket at a butcher shop, each variable/object in an Array has a ticket. Like a butcher shop, when we process an array in a loop, we do so from the beginning of the Array, and end at the last object/variable that was added to the Array.\n",
    "\n",
    "```\n",
    "Butcher Shop Customers:\n",
    "  1. Fred\n",
    "  2. Manny\n",
    "  3. Lisa\n",
    "  4. Harriet\n",
    "```\n",
    "\n",
    "We can cast the same list of customers in the order that they are processed at the butcher in a butcher_customers Array."
   ]
  },
  {
   "cell_type": "code",
   "execution_count": 2,
   "metadata": {},
   "outputs": [
    {
     "name": "stdout",
     "output_type": "stream",
     "text": [
      "Butcher Customers: ['Fred', 'Manny', 'Lisa', 'Harriet']\n"
     ]
    }
   ],
   "source": [
    "butcher_customers = ['Fred', 'Manny', 'Lisa', 'Harriet']\n",
    "print('Butcher Customers: ' + str(butcher_customers))"
   ]
  },
  {
   "cell_type": "markdown",
   "metadata": {},
   "source": [
    "### Accessing Indexes\n",
    "\n",
    "Arrays are slightly different from how you would think to access a list of customers. Where you would process the first customer or customer 1, the first element of an Array is accessed at the 0 index."
   ]
  },
  {
   "cell_type": "code",
   "execution_count": 3,
   "metadata": {},
   "outputs": [
    {
     "name": "stdout",
     "output_type": "stream",
     "text": [
      "First customer: Fred\n"
     ]
    }
   ],
   "source": [
    "print('First customer: ' + butcher_customers[0])"
   ]
  },
  {
   "cell_type": "markdown",
   "metadata": {},
   "source": [
    "You can also access the last index of the array with this in mind. If the length of this Array is 4, then the last index of the array is 0,1,2,**3**. There are two ways to access the last index of an array. Calculating the length, using the `len` method, of the Array and subtracting 1, or you can use a method that is unique to Python(I think)."
   ]
  },
  {
   "cell_type": "code",
   "execution_count": 12,
   "metadata": {},
   "outputs": [
    {
     "name": "stdout",
     "output_type": "stream",
     "text": [
      "Last customer: Harriet\n",
      "Last customer: Harriet\n"
     ]
    }
   ],
   "source": [
    "print('Last customer: ' + butcher_customers[len(butcher_customers) - 1])\n",
    "print('Last customer: ' + butcher_customers[-1])"
   ]
  },
  {
   "cell_type": "markdown",
   "metadata": {},
   "source": [
    "### Appending to Arrays\n",
    "\n",
    "We can add another variable of the same type to an Array through the `append` method."
   ]
  },
  {
   "cell_type": "code",
   "execution_count": 3,
   "metadata": {},
   "outputs": [
    {
     "name": "stdout",
     "output_type": "stream",
     "text": [
      "Butcher Customers: ['Fred', 'Manny', 'Lisa', 'Harriet', 'Gary']\n"
     ]
    }
   ],
   "source": [
    "butcher_customers.append('Gary')\n",
    "print('Butcher Customers: ' + str(butcher_customers))"
   ]
  },
  {
   "cell_type": "markdown",
   "metadata": {},
   "source": [
    "### Strings as Arrays\n",
    "\n",
    "Strings can also be considered Arrays in Python. They are a list of Characters. Because they are arrays, they can be accessed the same way."
   ]
  },
  {
   "cell_type": "code",
   "execution_count": 13,
   "metadata": {},
   "outputs": [
    {
     "name": "stdout",
     "output_type": "stream",
     "text": [
      "Last customer: Harriet\n",
      "First letter of last customer: H\n"
     ]
    }
   ],
   "source": [
    "harriet = butcher_customers[-1]\n",
    "print('Last customer: ' + harriet)\n",
    "\n",
    "first_char = harriet[0]\n",
    "print('First letter of last customer: ' + first_char)\n",
    "\n",
    "# same method\n",
    "first_char = butcher_customers[-1][0]"
   ]
  },
  {
   "cell_type": "markdown",
   "metadata": {},
   "source": [
    "# For Loops\n",
    "\n",
    "For loops are the primary method of cycling through data/lists in Python. For loops can only work with Arrays, where a temporary variable is created only for use inside of the For loop. As the For loop progresses, the temporary variable goes to the nex indexed item of the For loop."
   ]
  },
  {
   "cell_type": "code",
   "execution_count": 7,
   "metadata": {
    "scrolled": true
   },
   "outputs": [
    {
     "name": "stdout",
     "output_type": "stream",
     "text": [
      "Current customer: Fred\n",
      "Current customer: Manny\n",
      "Current customer: Lisa\n",
      "Current customer: Harriet\n"
     ]
    }
   ],
   "source": [
    "for butcher_customer in butcher_customers:\n",
    "    print('Current customer: ' + butcher_customer)"
   ]
  },
  {
   "cell_type": "markdown",
   "metadata": {},
   "source": [
    "You can also track the index of the Array as you go through the For loop using the `enumerate` function.\n",
    "Remember, we track the index starting at 0, so to portray the current customer number, we add 1 to show the human number."
   ]
  },
  {
   "cell_type": "code",
   "execution_count": 11,
   "metadata": {},
   "outputs": [
    {
     "name": "stdout",
     "output_type": "stream",
     "text": [
      "Current customer: Fred\n",
      "Customer number: 1\n",
      "Current customer: Manny\n",
      "Customer number: 2\n",
      "Current customer: Lisa\n",
      "Customer number: 3\n",
      "Current customer: Harriet\n",
      "Customer number: 4\n"
     ]
    }
   ],
   "source": [
    "for i, butcher_customer in enumerate(butcher_customers):\n",
    "    print('Current customer: ' + butcher_customer)\n",
    "    print('Customer number: ' + str(i + 1))"
   ]
  },
  {
   "cell_type": "markdown",
   "metadata": {},
   "source": [
    "# Evaluation\n",
    "\n",
    "\n",
    "1. Pull the repository\n",
    "\n",
    "```\n",
    "git clone git@github.com:sealneaward/lesson-plan.git\n",
    "```\n",
    "\n",
    "2. Checkout the branch to make your changes on.\n",
    "\n",
    "```\n",
    "git checkout arrays-for-loops\n",
    "```\n",
    "\n",
    "In the code subfolder.\n",
    "```\n",
    "lesson-plan\n",
    "  > lessons\n",
    "    > arrays-for-loops\n",
    "      > arrs\n",
    "        > code\n",
    "          - indexing.py\n",
    "```\n",
    "You will find `indexing.py`\n",
    "\n",
    "### Indexing Evaluation\n",
    "\n",
    "I have given you a list of names. Using For loops, enumerate, and appending to the arrays, write code to:\n",
    "\n",
    "1. All indexes of names that start  with letter 'R'\n",
    "\n",
    "2. All indexes of names that end with letter 'r'\n",
    "\n",
    "### Finishing\n",
    "\n",
    "Once you are finished, you will need to commit and push your code to the `arrays-for-loops` branch. Use a unique commit message so you can track it in the tests results. Once done, you can visit the [action page](https://github.com/sealneaward/lesson-plan/actions) to view your test results.\n"
   ]
  }
 ],
 "metadata": {
  "kernelspec": {
   "display_name": "Python 3",
   "language": "python",
   "name": "python3"
  },
  "language_info": {
   "codemirror_mode": {
    "name": "ipython",
    "version": 3
   },
   "file_extension": ".py",
   "mimetype": "text/x-python",
   "name": "python",
   "nbconvert_exporter": "python",
   "pygments_lexer": "ipython3",
   "version": "3.8.2"
  }
 },
 "nbformat": 4,
 "nbformat_minor": 4
}
